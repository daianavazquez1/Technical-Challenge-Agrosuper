{
 "cells": [
  {
   "cell_type": "code",
   "execution_count": 2,
   "id": "c4849426",
   "metadata": {},
   "outputs": [],
   "source": [
    "import pickle\n",
    "with open('editor_semanal.pkl', 'rb') as editor_semanal:\n",
    "        editor_semanal = pickle.load(editor_semanal)"
   ]
  },
  {
   "cell_type": "code",
   "execution_count": 3,
   "id": "da8bcf21",
   "metadata": {},
   "outputs": [
    {
     "data": {
      "text/plain": [
       "[{'nombre_var': 'variableA',\n",
       "  'anterior': 5,\n",
       "  'actual': 10,\n",
       "  'variacion_porc': 100,\n",
       "  'status': 'rojo'},\n",
       " {'nombre_var': 'variableB',\n",
       "  'anterior': 5,\n",
       "  'actual': 6,\n",
       "  'variacion_porc': 20,\n",
       "  'status': 'amarillo'},\n",
       " {'nombre_var': 'variableC',\n",
       "  'anterior': 5,\n",
       "  'actual': 5.05,\n",
       "  'variacion_porc': 1,\n",
       "  'status': 'verde'},\n",
       " {'nombre_var': 'variableD',\n",
       "  'anterior': 100,\n",
       "  'actual': 99,\n",
       "  'variacion_porc': -1,\n",
       "  'status': 'verde'}]"
      ]
     },
     "execution_count": 3,
     "metadata": {},
     "output_type": "execute_result"
    }
   ],
   "source": [
    "editor_semanal"
   ]
  },
  {
   "cell_type": "code",
   "execution_count": 29,
   "id": "986c1835",
   "metadata": {},
   "outputs": [],
   "source": [
    "claves = []\n",
    "for dicc in editor_semanal[0]:\n",
    "    claves.append(dicc)\n",
    "    "
   ]
  },
  {
   "cell_type": "code",
   "execution_count": 30,
   "id": "283c532c",
   "metadata": {
    "scrolled": true
   },
   "outputs": [
    {
     "data": {
      "text/plain": [
       "['nombre_var', 'anterior', 'actual', 'variacion_porc', 'status']"
      ]
     },
     "execution_count": 30,
     "metadata": {},
     "output_type": "execute_result"
    }
   ],
   "source": [
    "claves"
   ]
  },
  {
   "cell_type": "code",
   "execution_count": 33,
   "id": "35b0bda6",
   "metadata": {},
   "outputs": [],
   "source": [
    "with open('obtenervariaciones.pkl', 'rb') as generarvariaciones:\n",
    "        variaciones = pickle.load(generarvariaciones)\n"
   ]
  },
  {
   "cell_type": "code",
   "execution_count": 35,
   "id": "921d6463",
   "metadata": {},
   "outputs": [
    {
     "data": {
      "text/plain": [
       "[{'nro': 1,\n",
       "  'linea': 'Pollos',\n",
       "  'ropSemAnt': 100,\n",
       "  'ropSemActual': 110,\n",
       "  'rop': 10,\n",
       "  'ventas': 5,\n",
       "  'costoVentas': 3,\n",
       "  'GAV': 2,\n",
       "  'toneladasTotal': 50,\n",
       "  'volNacional': 30,\n",
       "  'volExport': 70},\n",
       " {'nro': 2,\n",
       "  'linea': 'Cerdos',\n",
       "  'ropSemAnt': 150.0,\n",
       "  'ropSemActual': 165.0,\n",
       "  'rop': 15.0,\n",
       "  'ventas': 7.5,\n",
       "  'costoVentas': 4.5,\n",
       "  'GAV': 3.0,\n",
       "  'toneladasTotal': 75.0,\n",
       "  'volNacional': 45.0,\n",
       "  'volExport': 105.0},\n",
       " {'nro': 3,\n",
       "  'linea': 'Pavos',\n",
       "  'ropSemAnt': 200,\n",
       "  'ropSemActual': 220,\n",
       "  'rop': 20,\n",
       "  'ventas': 10,\n",
       "  'costoVentas': 6,\n",
       "  'GAV': 4,\n",
       "  'toneladasTotal': 100,\n",
       "  'volNacional': 60,\n",
       "  'volExport': 140},\n",
       " {'nro': 4,\n",
       "  'linea': 'Procesados',\n",
       "  'ropSemAnt': 229.99999999999997,\n",
       "  'ropSemActual': 252.99999999999997,\n",
       "  'rop': 23.0,\n",
       "  'ventas': 11.5,\n",
       "  'costoVentas': 6.8999999999999995,\n",
       "  'GAV': 4.6,\n",
       "  'toneladasTotal': 114.99999999999999,\n",
       "  'volNacional': 69.0,\n",
       "  'volExport': 161.0},\n",
       " {'nro': 5,\n",
       "  'linea': 'Otros',\n",
       "  'ropSemAnt': 70.0,\n",
       "  'ropSemActual': 77.0,\n",
       "  'rop': 7.0,\n",
       "  'ventas': 3.5,\n",
       "  'costoVentas': 2.0999999999999996,\n",
       "  'GAV': 1.4,\n",
       "  'toneladasTotal': 35.0,\n",
       "  'volNacional': 21.0,\n",
       "  'volExport': 49.0}]"
      ]
     },
     "execution_count": 35,
     "metadata": {},
     "output_type": "execute_result"
    }
   ],
   "source": [
    "variaciones"
   ]
  },
  {
   "cell_type": "code",
   "execution_count": null,
   "id": "6ca99510",
   "metadata": {},
   "outputs": [],
   "source": []
  }
 ],
 "metadata": {
  "kernelspec": {
   "display_name": "Python 3 (ipykernel)",
   "language": "python",
   "name": "python3"
  },
  "language_info": {
   "codemirror_mode": {
    "name": "ipython",
    "version": 3
   },
   "file_extension": ".py",
   "mimetype": "text/x-python",
   "name": "python",
   "nbconvert_exporter": "python",
   "pygments_lexer": "ipython3",
   "version": "3.9.7"
  }
 },
 "nbformat": 4,
 "nbformat_minor": 5
}
